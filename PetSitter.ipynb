{
  "nbformat": 4,
  "nbformat_minor": 0,
  "metadata": {
    "colab": {
      "name": "PetSitter.ipynb",
      "provenance": [],
      "collapsed_sections": []
    },
    "kernelspec": {
      "name": "python3",
      "display_name": "Python 3"
    }
  },
  "cells": [
    {
      "cell_type": "markdown",
      "metadata": {
        "id": "Uen7PE8rDPq9",
        "colab_type": "text"
      },
      "source": [
        "**반려견의 행동을 분석하고 솔루션을 제안하는 인공지능 플랫폼, '펫시터'**\n"
      ]
    },
    {
      "cell_type": "markdown",
      "metadata": {
        "id": "o4WPATy6DYBE",
        "colab_type": "text"
      },
      "source": [
        "펫시터 객체 구현 코드"
      ]
    },
    {
      "cell_type": "code",
      "metadata": {
        "id": "CAv4J3EXDJSc",
        "colab_type": "code",
        "colab": {}
      },
      "source": [
        "class PetSitter:\n",
        "  def __init__(self, name, age, breed):\n",
        "    self.name = name\n",
        "    self.age = age\n",
        "    self.breed = breed\n",
        "    self.pos_emotion = 0\n",
        "    self.neg_emotion = 0\n",
        "    #self.neutral_emotion = 0\n",
        "  def open_snackbox(self):\n",
        "    print('\\n📣 간식박스가 열렸습니다!')\n",
        "  def call_hospital(self):\n",
        "    answer = input('\\n📣 가까운 동물병원에 전화를 거시겠습니까? (네/아니오)')\n",
        "    if answer == '네':\n",
        "      print(\"\\n📣 500m 거리에 있는 '정다운'동물병원에 연결하겠습니다.\")\n",
        "  def give_toy(self):\n",
        "    print('\\n📣 장난감 공을 받으셨나요? '  + self.name + '와(과) 놀아주세요!')\n",
        "  def take_photo(self):\n",
        "    print('\\n📣 ' +  self.name + ' 여기 보세요~! 하나 둘 셋 찰칵!📸')\n",
        "  def add_pos_emotion(self):\n",
        "    self.pos_emotion += 1\n",
        "  def add_neg_emotion(self):\n",
        "    self.neg_emotion += 1\n",
        "  def show_pos_emotion(self):\n",
        "    print('\\n오늘 {}(이)가 긍정적인 감정을 느낀 횟수 : {}회'.format(self.name , self.pos_emotion))\n",
        "  def show_neg_emotion(self):\n",
        "    print('\\n오늘 {}(이)가 부정적인 감정을 느낀 횟수 : {}회'.format(self.name , self.neg_emotion))\n",
        "\n",
        "ps = PetSitter('은톨이', 4, '진돗개')"
      ],
      "execution_count": null,
      "outputs": []
    },
    {
      "cell_type": "markdown",
      "metadata": {
        "id": "2KcfuwXZDf29",
        "colab_type": "text"
      },
      "source": [
        "CNN기반 분류 모형을 통해 반려견의 특정 행동 분석 후, 분류 결과를 활용한 자동화 함수 구현"
      ]
    },
    {
      "cell_type": "code",
      "metadata": {
        "id": "vtdggm0QDPSd",
        "colab_type": "code",
        "colab": {}
      },
      "source": [
        "def Automation(label):\n",
        "  #으르렁 -> 화남\n",
        "  if label == 0:\n",
        "    print(ps.name + '🐶 : \"화가 났어요!💢 간식으로 화를 풀어주세요.\"')\n",
        "    ps.open_snackbox()\n",
        "    ps.add_neg_emotion()\n",
        "    ps.show_neg_emotion()\n",
        "  #갸우뚱 -> 의아함\n",
        "  elif label == 1:\n",
        "    print(ps.name + '🐶 : \"이해를 못했어요!💬 다시 한 번 알려주세요.\"')\n",
        "  #벌러덩 -> 신남\n",
        "  elif label == 2:\n",
        "    print(ps.name + '🐶 : \"기분 좋아요! 함께 놀아주세요.🥎\"')\n",
        "    ps.give_toy()\n",
        "    ps.add_pos_emotion()\n",
        "    ps.show_pos_emotion()\n",
        "  #긁는 행위 -> 아픔\n",
        "  elif label == 3: \n",
        "    print(ps.name + '🐶 : \"몸이 자꾸 가려워요!💦 저의 몸 상태를 확인해주세요.\"')\n",
        "    ps.call_hospital()\n",
        "    ps.add_neg_emotion()\n",
        "    ps.show_neg_emotion()\n",
        "  #기지개 -> 편안함, 관심 요구\n",
        "  elif label == 4: \n",
        "    print(ps.name + '🐶 : \"여기 좀 봐주세요!👀 관심 받고 싶어요.\"')\n",
        "    ps.take_photo()\n",
        "    ps.add_pos_emotion()\n",
        "    ps.show_pos_emotion()\n",
        "  \n",
        "  "
      ],
      "execution_count": null,
      "outputs": []
    },
    {
      "cell_type": "code",
      "metadata": {
        "id": "vEUJhD8UDzma",
        "colab_type": "code",
        "colab": {
          "base_uri": "https://localhost:8080/",
          "height": 107
        },
        "outputId": "18ad7490-0bdb-490e-e9b9-5890de29cadc"
      },
      "source": [
        "Automation(0)"
      ],
      "execution_count": null,
      "outputs": [
        {
          "output_type": "stream",
          "text": [
            "은톨이🐶 : \"화가 났어요!💢 간식으로 화를 풀어주세요.\"\n",
            "\n",
            "📣 간식박스가 열렸습니다!\n",
            "\n",
            "오늘 은톨이(이)가 부정적인 감정을 느낀 횟수 : 1회\n"
          ],
          "name": "stdout"
        }
      ]
    },
    {
      "cell_type": "code",
      "metadata": {
        "id": "5ZiAzDfocC-u",
        "colab_type": "code",
        "colab": {
          "base_uri": "https://localhost:8080/",
          "height": 35
        },
        "outputId": "0af3d02d-1373-46a1-ad39-c9f8b2676d95"
      },
      "source": [
        "Automation(1)"
      ],
      "execution_count": null,
      "outputs": [
        {
          "output_type": "stream",
          "text": [
            "은톨이🐶 : \"이해를 못했어요!💬 다시 한 번 알려주세요.\"\n"
          ],
          "name": "stdout"
        }
      ]
    },
    {
      "cell_type": "code",
      "metadata": {
        "id": "VeE_rsiikRZs",
        "colab_type": "code",
        "colab": {
          "base_uri": "https://localhost:8080/",
          "height": 107
        },
        "outputId": "17f72acf-1de6-41de-ac74-f1d4e569f152"
      },
      "source": [
        "Automation(2)"
      ],
      "execution_count": null,
      "outputs": [
        {
          "output_type": "stream",
          "text": [
            "은톨이🐶 : \"기분 좋아요! 함께 놀아주세요.🥎\"\n",
            "\n",
            "📣 장난감 공을 받으셨나요? 은톨이와(과) 놀아주세요!\n",
            "\n",
            "오늘 은톨이(이)가 긍정적인 감정을 느낀 횟수 : 1회\n"
          ],
          "name": "stdout"
        }
      ]
    },
    {
      "cell_type": "code",
      "metadata": {
        "id": "-QavPskqkS1M",
        "colab_type": "code",
        "colab": {
          "base_uri": "https://localhost:8080/",
          "height": 143
        },
        "outputId": "c5097eb5-a799-4bce-f8cf-bed76f384062"
      },
      "source": [
        "Automation(3)"
      ],
      "execution_count": null,
      "outputs": [
        {
          "output_type": "stream",
          "text": [
            "은톨이🐶 : \"몸이 자꾸 가려워요!💦 저의 몸 상태를 확인해주세요.\"\n",
            "\n",
            "📣 가까운 동물병원에 전화를 거시겠습니까? (네/아니오)네\n",
            "\n",
            "📣 500m 거리에 있는 '정다운'동물병원에 연결하겠습니다.\n",
            "\n",
            "오늘 은톨이(이)가 부정적인 감정을 느낀 횟수 : 2회\n"
          ],
          "name": "stdout"
        }
      ]
    },
    {
      "cell_type": "code",
      "metadata": {
        "id": "E3uVn-NnkUDB",
        "colab_type": "code",
        "colab": {
          "base_uri": "https://localhost:8080/",
          "height": 107
        },
        "outputId": "2caf5c34-9a36-46f1-9277-ec3c3499eb0e"
      },
      "source": [
        "Automation(4)"
      ],
      "execution_count": null,
      "outputs": [
        {
          "output_type": "stream",
          "text": [
            "은톨이🐶 : \"여기 좀 봐주세요!👀 관심 받고 싶어요.\"\n",
            "\n",
            "📣 은톨이 여기 보세요~! 하나 둘 셋 찰칵!📸\n",
            "\n",
            "오늘 은톨이(이)가 긍정적인 감정을 느낀 횟수 : 2회\n"
          ],
          "name": "stdout"
        }
      ]
    }
  ]
}